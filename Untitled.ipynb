{
 "cells": [
  {
   "cell_type": "code",
   "execution_count": 5,
   "id": "9a351d84-04bc-4de0-9fbc-9952f54dabea",
   "metadata": {},
   "outputs": [],
   "source": [
    "#question 1\n",
    "#\"1. In the below elements which of them are values or an expression? eg:- values can be\n",
    "#integer or string and expressions will be mathematical operators.\n",
    "# *\n",
    "# &#39;hello&#39;\n",
    "# -87.8\n",
    "# -\n",
    "# /\n",
    "# +\n",
    "# 6"
   ]
  },
  {
   "cell_type": "code",
   "execution_count": 6,
   "id": "8439777f-a138-4872-a891-1adf5e5522f6",
   "metadata": {},
   "outputs": [],
   "source": [
    "#Answer 1\n",
    "\n",
    "#  * - Expression (mathematical operator)\n",
    "#  'hello' - Value (string)\n",
    "#  -87.8 - Value (floating-point number)\n",
    "#  - - Expression (mathematical operator)\n",
    "#  / - Expression (mathematical operator)\n",
    "#  + - Expression (mathematical operator)\n",
    "#  6 - Value (integer)"
   ]
  },
  {
   "cell_type": "code",
   "execution_count": 7,
   "id": "49abb06b-15e3-475b-aa91-08edac584cab",
   "metadata": {},
   "outputs": [],
   "source": [
    "# 2. What is the difference between string and variable?"
   ]
  },
  {
   "cell_type": "code",
   "execution_count": 8,
   "id": "ceaa865e-d6ff-420d-b2fc-218406740939",
   "metadata": {},
   "outputs": [],
   "source": [
    "#  String: A sequence of characters enclosed in quotes (e.g., \"hello\"). It represents text.\n",
    "\n",
    "#  Variable: A named storage that holds data which can be a string, number, or any other type. It can change value over time (e.g., x = 5 or name = \"Alice\")."
   ]
  },
  {
   "cell_type": "code",
   "execution_count": 9,
   "id": "fb597cad-e284-4c2d-8e70-99666306f61c",
   "metadata": {},
   "outputs": [],
   "source": [
    "# 3. Describe three different data types."
   ]
  },
  {
   "cell_type": "code",
   "execution_count": 10,
   "id": "61aba8a3-74d3-4f8d-90fc-dbde77c2fffb",
   "metadata": {},
   "outputs": [],
   "source": [
    "# Here are three different data types:\n",
    "\n",
    "#Integer (int):Represents whole numbers without any fractional part.\n",
    "#Example: 1, 42, -99.\n",
    "\n",
    "#Float (floating-point number):Represents numbers with a fractional part, using a decimal point.\n",
    "#Example: 3.14, -0.001.\n",
    "\n",
    "#String (str):Represents sequences of characters, used to store text.\n",
    "#Example: \"hello\", \"123\"."
   ]
  },
  {
   "cell_type": "code",
   "execution_count": 12,
   "id": "240cc40d-a442-4571-a09f-1a9b048edfbb",
   "metadata": {},
   "outputs": [],
   "source": [
    "# 4. What is an expression made up of? What do all expressions do?"
   ]
  },
  {
   "cell_type": "code",
   "execution_count": 15,
   "id": "50fc29ff-bbc3-454c-b242-2109605130ad",
   "metadata": {},
   "outputs": [],
   "source": [
    "\n",
    "# An expression is made up of:\n",
    "\n",
    "# Values: These can be constants like numbers or strings.\n",
    "# Example: 5, \"hello\"\n",
    "# Variables: Names that refer to data stored in memory.\n",
    "# Example: x, total\n",
    "# Operators: Symbols that perform operations on values and variables.\n",
    "# Example: +, -, *, /\n",
    "# Function calls: Invocations of functions that return values.\n",
    "# Example: len(\"text\"), math.sqrt(16)"
   ]
  },
  {
   "cell_type": "code",
   "execution_count": 17,
   "id": "32d0a9ea-f20f-4d55-bb95-1ceb3657a338",
   "metadata": {},
   "outputs": [],
   "source": [
    "#5. This assignment statements, like spam = 10. What is the difference between an expression and a statement?\n",
    "# The difference between an expression and a statement is:\n",
    "\n",
    "# Expression: A combination of values, variables, operators, and function calls that evaluates to a single value. Expressions can be part of statements.\n",
    "\n",
    "# Example: 2 + 3, spam * 2, len(\"hello\")\n",
    "# Statement: A complete unit of code that performs an action. Statements can include expressions and do not necessarily produce a value.\n",
    "\n",
    "# Example: spam = 10 (assignment statement), print(\"hello\") (function call statement), if condition: pass (control flow statement)\n",
    "# In the example spam = 10:\n",
    "\n",
    "# The entire line is a statement."
   ]
  },
  {
   "cell_type": "code",
   "execution_count": 18,
   "id": "e31918b7-8cbf-4e0c-8ae4-91a5656e8e88",
   "metadata": {},
   "outputs": [],
   "source": [
    "# 6. After running the following code, what does the variable bacon contain?\n",
    "# bacon = 22\n",
    "# bacon + 1"
   ]
  },
  {
   "cell_type": "code",
   "execution_count": 19,
   "id": "08c9dad8-23f9-495c-a017-d706593271c6",
   "metadata": {},
   "outputs": [],
   "source": [
    "# The variable bacon will still contain the value 22. This is because the expression bacon + 1 evaluates to 23, but it does not modify the variable bacon. To change the value of bacon, you would need an assignment statement like bacon = bacon + 1."
   ]
  },
  {
   "cell_type": "code",
   "execution_count": 20,
   "id": "4e739b39-e567-4cb6-87db-bb1c796665b0",
   "metadata": {},
   "outputs": [],
   "source": [
    "# 7. What should the values of the following two terms be?\n",
    "# &#39;spam&#39; + &#39;spamspam&#39;\n",
    "# &#39;spam&#39; * 3"
   ]
  },
  {
   "cell_type": "code",
   "execution_count": 21,
   "id": "b984ee8e-c950-4ef5-bbf0-f8ed860b7a2d",
   "metadata": {},
   "outputs": [],
   "source": [
    "# The values of the following two terms will be:\n",
    "\n",
    "# 'spam' + 'spamspam':\n",
    "\n",
    "# The value will be the concatenation of the two strings.\n",
    "# Result: 'spamspamspam'\n",
    "# 'spam' * 3:\n",
    "\n",
    "# The value will be the string 'spam' repeated 3 times.\n",
    "# Result: 'spamspamspam'"
   ]
  },
  {
   "cell_type": "code",
   "execution_count": 22,
   "id": "f0f7e8a7-397b-4930-b326-f6ad8e10ca82",
   "metadata": {},
   "outputs": [],
   "source": [
    "# 8. Why is eggs a valid variable name while 100 is invalid?\n",
    "\n"
   ]
  },
  {
   "cell_type": "code",
   "execution_count": 23,
   "id": "75e5c52b-65d7-4d4b-82d4-ddd69784a32b",
   "metadata": {},
   "outputs": [],
   "source": [
    "# eggs is a valid variable name while 100 is invalid because:\n",
    "\n",
    "# Variable names must start with a letter (a-z, A-Z) or an underscore (_). They can contain letters, digits (0-9), and underscores, but they cannot start with a digit.\n",
    "# eggs follows these rules, starting with a letter.\n",
    "# 100 does not follow these rules because it starts with a digit."
   ]
  },
  {
   "cell_type": "code",
   "execution_count": 24,
   "id": "014b4ada-d465-48eb-89a2-549a29de3b1a",
   "metadata": {},
   "outputs": [],
   "source": [
    "# 9. What three functions can be used to get the integer, floating-point number, or string\n",
    "# version of a value?"
   ]
  },
  {
   "cell_type": "code",
   "execution_count": 25,
   "id": "1d61c447-08c8-4fd8-b9a0-b7ba2b2638b5",
   "metadata": {},
   "outputs": [],
   "source": [
    "# The three functions that can be used to convert a value to an integer, floating-point number, or string in Python are:\n",
    "\n",
    "# int(): Converts a value to an integer.\n",
    "\n",
    "# Example: int('10') converts the string '10' to the integer 10.\n",
    "# float(): Converts a value to a floating-point number.\n",
    "\n",
    "# Example: float('10.5') converts the string '10.5' to the float 10.5.\n",
    "# str(): Converts a value to a string.\n",
    "\n",
    "# Example: str(10) converts the integer 10 to the string '10'."
   ]
  },
  {
   "cell_type": "code",
   "execution_count": 26,
   "id": "1e3a3e3a-8aa1-4200-ab64-ef038b1813b8",
   "metadata": {},
   "outputs": [],
   "source": [
    "# 10. Why does this expression cause an error? How can you fix it?\n",
    "# &#39;I have eaten &#39; + 99 + &#39; burritos.&#39;\n",
    "\n"
   ]
  },
  {
   "cell_type": "code",
   "execution_count": 27,
   "id": "0b2d008f-3cd6-4c50-8c8b-8d459dadc70a",
   "metadata": {},
   "outputs": [
    {
     "data": {
      "text/plain": [
       "'I have eaten 99 burritos.'"
      ]
     },
     "execution_count": 27,
     "metadata": {},
     "output_type": "execute_result"
    }
   ],
   "source": [
    "# The expression 'I have eaten ' + 99 + ' burritos.' causes an error because it attempts to concatenate a string ('I have eaten ') with an integer (99), which is not allowed in Python.\n",
    "\n",
    "# To fix the error, you need to convert the integer 99 to a string using the str() function. Here is the corrected expression:\n",
    "\n",
    "'I have eaten ' + str(99) + ' burritos.'\n"
   ]
  },
  {
   "cell_type": "code",
   "execution_count": null,
   "id": "0a03d183-653a-46bd-bd90-69abd331b3f7",
   "metadata": {},
   "outputs": [],
   "source": []
  }
 ],
 "metadata": {
  "kernelspec": {
   "display_name": "Python 3 (ipykernel)",
   "language": "python",
   "name": "python3"
  },
  "language_info": {
   "codemirror_mode": {
    "name": "ipython",
    "version": 3
   },
   "file_extension": ".py",
   "mimetype": "text/x-python",
   "name": "python",
   "nbconvert_exporter": "python",
   "pygments_lexer": "ipython3",
   "version": "3.10.8"
  }
 },
 "nbformat": 4,
 "nbformat_minor": 5
}
